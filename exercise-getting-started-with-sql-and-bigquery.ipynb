{
 "cells": [
  {
   "cell_type": "markdown",
   "id": "2b93f77d",
   "metadata": {
    "papermill": {
     "duration": 0.006776,
     "end_time": "2022-08-08T15:26:50.438976",
     "exception": false,
     "start_time": "2022-08-08T15:26:50.432200",
     "status": "completed"
    },
    "tags": []
   },
   "source": [
    "**This notebook is an exercise in the [SQL](https://www.kaggle.com/learn/intro-to-sql) course.  You can reference the tutorial at [this link](https://www.kaggle.com/dansbecker/getting-started-with-sql-and-bigquery).**\n",
    "\n",
    "---\n"
   ]
  },
  {
   "cell_type": "markdown",
   "id": "9a758a9e",
   "metadata": {
    "papermill": {
     "duration": 0.005154,
     "end_time": "2022-08-08T15:26:50.449756",
     "exception": false,
     "start_time": "2022-08-08T15:26:50.444602",
     "status": "completed"
    },
    "tags": []
   },
   "source": [
    "# Introduction\n",
    "\n",
    "The first test of your new data exploration skills uses data describing crime in the city of Chicago.\n",
    "\n",
    "Before you get started, run the following cell. It sets up the automated feedback system to review your answers."
   ]
  },
  {
   "cell_type": "code",
   "execution_count": 1,
   "id": "fb972908",
   "metadata": {
    "execution": {
     "iopub.execute_input": "2022-08-08T15:26:50.462573Z",
     "iopub.status.busy": "2022-08-08T15:26:50.462108Z",
     "iopub.status.idle": "2022-08-08T15:26:51.115833Z",
     "shell.execute_reply": "2022-08-08T15:26:51.114285Z"
    },
    "papermill": {
     "duration": 0.663682,
     "end_time": "2022-08-08T15:26:51.118883",
     "exception": false,
     "start_time": "2022-08-08T15:26:50.455201",
     "status": "completed"
    },
    "tags": []
   },
   "outputs": [
    {
     "name": "stdout",
     "output_type": "stream",
     "text": [
      "Using Kaggle's public dataset BigQuery integration.\n",
      "Setup Complete\n"
     ]
    }
   ],
   "source": [
    "# Set up feedack system\n",
    "from learntools.core import binder\n",
    "binder.bind(globals())\n",
    "from learntools.sql.ex1 import *\n",
    "print(\"Setup Complete\")"
   ]
  },
  {
   "cell_type": "markdown",
   "id": "4e4c208e",
   "metadata": {
    "papermill": {
     "duration": 0.005557,
     "end_time": "2022-08-08T15:26:51.130267",
     "exception": false,
     "start_time": "2022-08-08T15:26:51.124710",
     "status": "completed"
    },
    "tags": []
   },
   "source": [
    "Use the next code cell to fetch the dataset."
   ]
  },
  {
   "cell_type": "code",
   "execution_count": 2,
   "id": "edbb7b8c",
   "metadata": {
    "execution": {
     "iopub.execute_input": "2022-08-08T15:26:51.143672Z",
     "iopub.status.busy": "2022-08-08T15:26:51.143004Z",
     "iopub.status.idle": "2022-08-08T15:26:51.439980Z",
     "shell.execute_reply": "2022-08-08T15:26:51.438617Z"
    },
    "papermill": {
     "duration": 0.306678,
     "end_time": "2022-08-08T15:26:51.442743",
     "exception": false,
     "start_time": "2022-08-08T15:26:51.136065",
     "status": "completed"
    },
    "tags": []
   },
   "outputs": [
    {
     "name": "stdout",
     "output_type": "stream",
     "text": [
      "Using Kaggle's public dataset BigQuery integration.\n"
     ]
    }
   ],
   "source": [
    "from google.cloud import bigquery\n",
    "\n",
    "# Create a \"Client\" object\n",
    "client = bigquery.Client()\n",
    "\n",
    "# Construct a reference to the \"chicago_crime\" dataset\n",
    "dataset_ref = client.dataset(\"chicago_crime\", project=\"bigquery-public-data\")\n",
    "\n",
    "# API request - fetch the dataset\n",
    "dataset = client.get_dataset(dataset_ref)"
   ]
  },
  {
   "cell_type": "markdown",
   "id": "70993982",
   "metadata": {
    "papermill": {
     "duration": 0.005463,
     "end_time": "2022-08-08T15:26:51.454625",
     "exception": false,
     "start_time": "2022-08-08T15:26:51.449162",
     "status": "completed"
    },
    "tags": []
   },
   "source": [
    "# Exercises\n",
    "\n",
    "### 1) Count tables in the dataset\n",
    "\n",
    "How many tables are in the Chicago Crime dataset?"
   ]
  },
  {
   "cell_type": "code",
   "execution_count": 3,
   "id": "0a8ee00d",
   "metadata": {
    "execution": {
     "iopub.execute_input": "2022-08-08T15:26:51.467566Z",
     "iopub.status.busy": "2022-08-08T15:26:51.467160Z",
     "iopub.status.idle": "2022-08-08T15:26:51.472158Z",
     "shell.execute_reply": "2022-08-08T15:26:51.471207Z"
    },
    "papermill": {
     "duration": 0.014019,
     "end_time": "2022-08-08T15:26:51.474268",
     "exception": false,
     "start_time": "2022-08-08T15:26:51.460249",
     "status": "completed"
    },
    "tags": []
   },
   "outputs": [],
   "source": [
    "# Write the code you need here to figure out the answer"
   ]
  },
  {
   "cell_type": "code",
   "execution_count": 4,
   "id": "55b6816a",
   "metadata": {
    "execution": {
     "iopub.execute_input": "2022-08-08T15:26:51.487773Z",
     "iopub.status.busy": "2022-08-08T15:26:51.487029Z",
     "iopub.status.idle": "2022-08-08T15:26:51.684290Z",
     "shell.execute_reply": "2022-08-08T15:26:51.682992Z"
    },
    "papermill": {
     "duration": 0.206985,
     "end_time": "2022-08-08T15:26:51.686953",
     "exception": false,
     "start_time": "2022-08-08T15:26:51.479968",
     "status": "completed"
    },
    "tags": []
   },
   "outputs": [
    {
     "data": {
      "application/javascript": [
       "parent.postMessage({\"jupyterEvent\": \"custom.exercise_interaction\", \"data\": {\"outcomeType\": 1, \"valueTowardsCompletion\": 0.3333333333333333, \"interactionType\": 1, \"questionType\": 1, \"questionId\": \"1_CountTables\", \"learnToolsVersion\": \"0.3.4\", \"failureMessage\": \"\", \"exceptionClass\": \"\", \"trace\": \"\"}}, \"*\")"
      ],
      "text/plain": [
       "<IPython.core.display.Javascript object>"
      ]
     },
     "metadata": {},
     "output_type": "display_data"
    },
    {
     "data": {
      "text/markdown": [
       "<span style=\"color:#33cc33\">Correct</span>"
      ],
      "text/plain": [
       "Correct"
      ]
     },
     "metadata": {},
     "output_type": "display_data"
    }
   ],
   "source": [
    "num_tables = len(list(client.list_tables(dataset)))  # Store the answer as num_tables and then run this cell\n",
    "\n",
    "# Check your answer\n",
    "q_1.check()"
   ]
  },
  {
   "cell_type": "markdown",
   "id": "e5fba1b2",
   "metadata": {
    "papermill": {
     "duration": 0.007145,
     "end_time": "2022-08-08T15:26:51.700326",
     "exception": false,
     "start_time": "2022-08-08T15:26:51.693181",
     "status": "completed"
    },
    "tags": []
   },
   "source": [
    "For a hint or the solution, uncomment the appropriate line below."
   ]
  },
  {
   "cell_type": "code",
   "execution_count": 5,
   "id": "2df28ac2",
   "metadata": {
    "execution": {
     "iopub.execute_input": "2022-08-08T15:26:51.715208Z",
     "iopub.status.busy": "2022-08-08T15:26:51.714764Z",
     "iopub.status.idle": "2022-08-08T15:26:51.719862Z",
     "shell.execute_reply": "2022-08-08T15:26:51.718512Z"
    },
    "papermill": {
     "duration": 0.015637,
     "end_time": "2022-08-08T15:26:51.722602",
     "exception": false,
     "start_time": "2022-08-08T15:26:51.706965",
     "status": "completed"
    },
    "tags": []
   },
   "outputs": [],
   "source": [
    "#q_1.hint()\n",
    "#q_1.solution()"
   ]
  },
  {
   "cell_type": "markdown",
   "id": "657a7628",
   "metadata": {
    "papermill": {
     "duration": 0.005757,
     "end_time": "2022-08-08T15:26:51.734669",
     "exception": false,
     "start_time": "2022-08-08T15:26:51.728912",
     "status": "completed"
    },
    "tags": []
   },
   "source": [
    "### 2) Explore the table schema\n",
    "\n",
    "How many columns in the `crime` table have `TIMESTAMP` data?"
   ]
  },
  {
   "cell_type": "code",
   "execution_count": 6,
   "id": "bf8e08ad",
   "metadata": {
    "execution": {
     "iopub.execute_input": "2022-08-08T15:26:51.750536Z",
     "iopub.status.busy": "2022-08-08T15:26:51.750081Z",
     "iopub.status.idle": "2022-08-08T15:26:51.756606Z",
     "shell.execute_reply": "2022-08-08T15:26:51.755482Z"
    },
    "papermill": {
     "duration": 0.018061,
     "end_time": "2022-08-08T15:26:51.759171",
     "exception": false,
     "start_time": "2022-08-08T15:26:51.741110",
     "status": "completed"
    },
    "tags": []
   },
   "outputs": [],
   "source": [
    "# Write the code to figure out the answer"
   ]
  },
  {
   "cell_type": "code",
   "execution_count": 7,
   "id": "f457fd09",
   "metadata": {
    "execution": {
     "iopub.execute_input": "2022-08-08T15:26:51.773210Z",
     "iopub.status.busy": "2022-08-08T15:26:51.772774Z",
     "iopub.status.idle": "2022-08-08T15:26:51.956372Z",
     "shell.execute_reply": "2022-08-08T15:26:51.955266Z"
    },
    "papermill": {
     "duration": 0.193558,
     "end_time": "2022-08-08T15:26:51.958791",
     "exception": false,
     "start_time": "2022-08-08T15:26:51.765233",
     "status": "completed"
    },
    "tags": []
   },
   "outputs": [
    {
     "data": {
      "application/javascript": [
       "parent.postMessage({\"jupyterEvent\": \"custom.exercise_interaction\", \"data\": {\"outcomeType\": 1, \"valueTowardsCompletion\": 0.3333333333333333, \"interactionType\": 1, \"questionType\": 1, \"questionId\": \"2_CountTimestampFields\", \"learnToolsVersion\": \"0.3.4\", \"failureMessage\": \"\", \"exceptionClass\": \"\", \"trace\": \"\"}}, \"*\")"
      ],
      "text/plain": [
       "<IPython.core.display.Javascript object>"
      ]
     },
     "metadata": {},
     "output_type": "display_data"
    },
    {
     "data": {
      "text/markdown": [
       "<span style=\"color:#33cc33\">Correct</span>"
      ],
      "text/plain": [
       "Correct"
      ]
     },
     "metadata": {},
     "output_type": "display_data"
    }
   ],
   "source": [
    "\n",
    "table = client.get_table(dataset_ref.table('crime'))\n",
    "num_timestamp_fields = sum(column.field_type == \"TIMESTAMP\" for column in table.schema)\n",
    "# Check your answer\n",
    "q_2.check()"
   ]
  },
  {
   "cell_type": "markdown",
   "id": "82e6a010",
   "metadata": {
    "papermill": {
     "duration": 0.006219,
     "end_time": "2022-08-08T15:26:51.971694",
     "exception": false,
     "start_time": "2022-08-08T15:26:51.965475",
     "status": "completed"
    },
    "tags": []
   },
   "source": [
    "For a hint or the solution, uncomment the appropriate line below."
   ]
  },
  {
   "cell_type": "code",
   "execution_count": 8,
   "id": "56183afc",
   "metadata": {
    "execution": {
     "iopub.execute_input": "2022-08-08T15:26:51.985679Z",
     "iopub.status.busy": "2022-08-08T15:26:51.985255Z",
     "iopub.status.idle": "2022-08-08T15:26:51.989691Z",
     "shell.execute_reply": "2022-08-08T15:26:51.988765Z"
    },
    "papermill": {
     "duration": 0.014342,
     "end_time": "2022-08-08T15:26:51.992186",
     "exception": false,
     "start_time": "2022-08-08T15:26:51.977844",
     "status": "completed"
    },
    "tags": []
   },
   "outputs": [],
   "source": [
    "#q_2.hint()\n",
    "#q_2.solution()"
   ]
  },
  {
   "cell_type": "markdown",
   "id": "23f35645",
   "metadata": {
    "papermill": {
     "duration": 0.006913,
     "end_time": "2022-08-08T15:26:52.005307",
     "exception": false,
     "start_time": "2022-08-08T15:26:51.998394",
     "status": "completed"
    },
    "tags": []
   },
   "source": [
    "### 3) Create a crime map\n",
    "\n",
    "If you wanted to create a map with a dot at the location of each crime, what are the names of the two fields you likely need to pull out of the `crime` table to plot the crimes on a map?"
   ]
  },
  {
   "cell_type": "code",
   "execution_count": 9,
   "id": "da1b223c",
   "metadata": {
    "execution": {
     "iopub.execute_input": "2022-08-08T15:26:52.021087Z",
     "iopub.status.busy": "2022-08-08T15:26:52.020382Z",
     "iopub.status.idle": "2022-08-08T15:26:52.627279Z",
     "shell.execute_reply": "2022-08-08T15:26:52.626056Z"
    },
    "papermill": {
     "duration": 0.618038,
     "end_time": "2022-08-08T15:26:52.629936",
     "exception": false,
     "start_time": "2022-08-08T15:26:52.011898",
     "status": "completed"
    },
    "tags": []
   },
   "outputs": [
    {
     "name": "stderr",
     "output_type": "stream",
     "text": [
      "/opt/conda/lib/python3.7/site-packages/ipykernel_launcher.py:2: UserWarning: Cannot use bqstorage_client if max_results is set, reverting to fetching data with the tabledata.list endpoint.\n",
      "  \n"
     ]
    },
    {
     "data": {
      "text/html": [
       "<div>\n",
       "<style scoped>\n",
       "    .dataframe tbody tr th:only-of-type {\n",
       "        vertical-align: middle;\n",
       "    }\n",
       "\n",
       "    .dataframe tbody tr th {\n",
       "        vertical-align: top;\n",
       "    }\n",
       "\n",
       "    .dataframe thead th {\n",
       "        text-align: right;\n",
       "    }\n",
       "</style>\n",
       "<table border=\"1\" class=\"dataframe\">\n",
       "  <thead>\n",
       "    <tr style=\"text-align: right;\">\n",
       "      <th></th>\n",
       "      <th>unique_key</th>\n",
       "      <th>case_number</th>\n",
       "      <th>date</th>\n",
       "      <th>block</th>\n",
       "      <th>iucr</th>\n",
       "      <th>primary_type</th>\n",
       "      <th>description</th>\n",
       "      <th>location_description</th>\n",
       "      <th>arrest</th>\n",
       "      <th>domestic</th>\n",
       "      <th>...</th>\n",
       "      <th>ward</th>\n",
       "      <th>community_area</th>\n",
       "      <th>fbi_code</th>\n",
       "      <th>x_coordinate</th>\n",
       "      <th>y_coordinate</th>\n",
       "      <th>year</th>\n",
       "      <th>updated_on</th>\n",
       "      <th>latitude</th>\n",
       "      <th>longitude</th>\n",
       "      <th>location</th>\n",
       "    </tr>\n",
       "  </thead>\n",
       "  <tbody>\n",
       "    <tr>\n",
       "      <th>0</th>\n",
       "      <td>9433750</td>\n",
       "      <td>HW577533</td>\n",
       "      <td>2013-12-19 11:06:00+00:00</td>\n",
       "      <td>031XX S ASHLAND AVE</td>\n",
       "      <td>1822</td>\n",
       "      <td>NARCOTICS</td>\n",
       "      <td>MANU/DEL:CANNABIS OVER 10 GMS</td>\n",
       "      <td>PARKING LOT/GARAGE(NON.RESID.)</td>\n",
       "      <td>True</td>\n",
       "      <td>False</td>\n",
       "      <td>...</td>\n",
       "      <td>11</td>\n",
       "      <td>59</td>\n",
       "      <td>18</td>\n",
       "      <td>1166170.0</td>\n",
       "      <td>1884198.0</td>\n",
       "      <td>2013</td>\n",
       "      <td>2018-02-10 03:50:01+00:00</td>\n",
       "      <td>41.837818</td>\n",
       "      <td>-87.665743</td>\n",
       "      <td>(41.837817929, -87.665743225)</td>\n",
       "    </tr>\n",
       "  </tbody>\n",
       "</table>\n",
       "<p>1 rows × 22 columns</p>\n",
       "</div>"
      ],
      "text/plain": [
       "   unique_key case_number                      date                block  \\\n",
       "0     9433750    HW577533 2013-12-19 11:06:00+00:00  031XX S ASHLAND AVE   \n",
       "\n",
       "   iucr primary_type                    description  \\\n",
       "0  1822    NARCOTICS  MANU/DEL:CANNABIS OVER 10 GMS   \n",
       "\n",
       "             location_description  arrest  domestic  ...  ward  \\\n",
       "0  PARKING LOT/GARAGE(NON.RESID.)    True     False  ...    11   \n",
       "\n",
       "   community_area  fbi_code  x_coordinate y_coordinate  year  \\\n",
       "0              59        18     1166170.0    1884198.0  2013   \n",
       "\n",
       "                 updated_on   latitude  longitude  \\\n",
       "0 2018-02-10 03:50:01+00:00  41.837818 -87.665743   \n",
       "\n",
       "                        location  \n",
       "0  (41.837817929, -87.665743225)  \n",
       "\n",
       "[1 rows x 22 columns]"
      ]
     },
     "execution_count": 9,
     "metadata": {},
     "output_type": "execute_result"
    }
   ],
   "source": [
    "# Write the code here to explore the data so you can find the answer\n",
    "client.list_rows(table, max_results = 1).to_dataframe()"
   ]
  },
  {
   "cell_type": "code",
   "execution_count": 10,
   "id": "772791bd",
   "metadata": {
    "execution": {
     "iopub.execute_input": "2022-08-08T15:26:52.645832Z",
     "iopub.status.busy": "2022-08-08T15:26:52.645396Z",
     "iopub.status.idle": "2022-08-08T15:26:52.658242Z",
     "shell.execute_reply": "2022-08-08T15:26:52.655156Z"
    },
    "papermill": {
     "duration": 0.024504,
     "end_time": "2022-08-08T15:26:52.661038",
     "exception": false,
     "start_time": "2022-08-08T15:26:52.636534",
     "status": "completed"
    },
    "tags": []
   },
   "outputs": [
    {
     "name": "stdout",
     "output_type": "stream",
     "text": [
      "`'latitude'` and `'longitude'` would be better and more standard than `'x_coordinate'` and `'y_coordinate'`, but this might work.\n"
     ]
    },
    {
     "data": {
      "application/javascript": [
       "parent.postMessage({\"jupyterEvent\": \"custom.exercise_interaction\", \"data\": {\"outcomeType\": 1, \"valueTowardsCompletion\": 0.3333333333333333, \"interactionType\": 1, \"questionType\": 2, \"questionId\": \"3_IdentifyFieldsForPlotting\", \"learnToolsVersion\": \"0.3.4\", \"failureMessage\": \"\", \"exceptionClass\": \"\", \"trace\": \"\"}}, \"*\")"
      ],
      "text/plain": [
       "<IPython.core.display.Javascript object>"
      ]
     },
     "metadata": {},
     "output_type": "display_data"
    },
    {
     "data": {
      "text/markdown": [
       "<span style=\"color:#33cc33\">Correct</span>"
      ],
      "text/plain": [
       "Correct"
      ]
     },
     "metadata": {},
     "output_type": "display_data"
    }
   ],
   "source": [
    "fields_for_plotting = [\"x_coordinate\",\"y_coordinate\"] # Put your answers here\n",
    "\n",
    "# Check your answer\n",
    "q_3.check()"
   ]
  },
  {
   "cell_type": "markdown",
   "id": "a946db82",
   "metadata": {
    "papermill": {
     "duration": 0.007039,
     "end_time": "2022-08-08T15:26:52.675261",
     "exception": false,
     "start_time": "2022-08-08T15:26:52.668222",
     "status": "completed"
    },
    "tags": []
   },
   "source": [
    "For a hint or the solution, uncomment the appropriate line below."
   ]
  },
  {
   "cell_type": "code",
   "execution_count": 11,
   "id": "708d558d",
   "metadata": {
    "execution": {
     "iopub.execute_input": "2022-08-08T15:26:52.691180Z",
     "iopub.status.busy": "2022-08-08T15:26:52.690133Z",
     "iopub.status.idle": "2022-08-08T15:26:52.695910Z",
     "shell.execute_reply": "2022-08-08T15:26:52.694896Z"
    },
    "papermill": {
     "duration": 0.016359,
     "end_time": "2022-08-08T15:26:52.698499",
     "exception": false,
     "start_time": "2022-08-08T15:26:52.682140",
     "status": "completed"
    },
    "tags": []
   },
   "outputs": [],
   "source": [
    "#q_3.hint()\n",
    "#q_3.solution()"
   ]
  },
  {
   "cell_type": "markdown",
   "id": "e5919588",
   "metadata": {
    "papermill": {
     "duration": 0.006573,
     "end_time": "2022-08-08T15:26:52.711841",
     "exception": false,
     "start_time": "2022-08-08T15:26:52.705268",
     "status": "completed"
    },
    "tags": []
   },
   "source": [
    "Thinking about the question above, there are a few columns that appear to have geographic data. Look at a few values (with the `list_rows()` command) to see if you can determine their relationship.  Two columns will still be hard to interpret. But it should be obvious how the `location` column relates to `latitude` and `longitude`."
   ]
  },
  {
   "cell_type": "code",
   "execution_count": 12,
   "id": "ffa22446",
   "metadata": {
    "execution": {
     "iopub.execute_input": "2022-08-08T15:26:52.728861Z",
     "iopub.status.busy": "2022-08-08T15:26:52.727589Z",
     "iopub.status.idle": "2022-08-08T15:26:52.732393Z",
     "shell.execute_reply": "2022-08-08T15:26:52.731487Z"
    },
    "papermill": {
     "duration": 0.016106,
     "end_time": "2022-08-08T15:26:52.734675",
     "exception": false,
     "start_time": "2022-08-08T15:26:52.718569",
     "status": "completed"
    },
    "tags": []
   },
   "outputs": [],
   "source": [
    "# Scratch space for your code"
   ]
  },
  {
   "cell_type": "markdown",
   "id": "21d31531",
   "metadata": {
    "papermill": {
     "duration": 0.006551,
     "end_time": "2022-08-08T15:26:52.747976",
     "exception": false,
     "start_time": "2022-08-08T15:26:52.741425",
     "status": "completed"
    },
    "tags": []
   },
   "source": [
    "# Keep going\n",
    "\n",
    "You've looked at the schema, but you haven't yet done anything exciting with the data itself. Things get more interesting when you get to the data, so keep going to **[write your first SQL query](https://www.kaggle.com/dansbecker/select-from-where).**"
   ]
  },
  {
   "cell_type": "markdown",
   "id": "5ba7347b",
   "metadata": {
    "papermill": {
     "duration": 0.00631,
     "end_time": "2022-08-08T15:26:52.761201",
     "exception": false,
     "start_time": "2022-08-08T15:26:52.754891",
     "status": "completed"
    },
    "tags": []
   },
   "source": [
    "---\n",
    "\n",
    "\n",
    "\n",
    "\n",
    "*Have questions or comments? Visit the [course discussion forum](https://www.kaggle.com/learn/intro-to-sql/discussion) to chat with other learners.*"
   ]
  }
 ],
 "metadata": {
  "kernelspec": {
   "display_name": "Python 3",
   "language": "python",
   "name": "python3"
  },
  "language_info": {
   "codemirror_mode": {
    "name": "ipython",
    "version": 3
   },
   "file_extension": ".py",
   "mimetype": "text/x-python",
   "name": "python",
   "nbconvert_exporter": "python",
   "pygments_lexer": "ipython3",
   "version": "3.7.12"
  },
  "papermill": {
   "default_parameters": {},
   "duration": 14.28135,
   "end_time": "2022-08-08T15:26:53.490735",
   "environment_variables": {},
   "exception": null,
   "input_path": "__notebook__.ipynb",
   "output_path": "__notebook__.ipynb",
   "parameters": {},
   "start_time": "2022-08-08T15:26:39.209385",
   "version": "2.3.4"
  }
 },
 "nbformat": 4,
 "nbformat_minor": 5
}
