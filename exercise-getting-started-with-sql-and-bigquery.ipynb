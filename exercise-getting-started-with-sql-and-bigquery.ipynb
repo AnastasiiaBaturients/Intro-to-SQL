{
 "cells": [
  {
   "cell_type": "markdown",
   "id": "1caeb70e",
   "metadata": {
    "papermill": {
     "duration": 0.006683,
     "end_time": "2022-08-08T15:24:39.019198",
     "exception": false,
     "start_time": "2022-08-08T15:24:39.012515",
     "status": "completed"
    },
    "tags": []
   },
   "source": [
    "**This notebook is an exercise in the [SQL](https://www.kaggle.com/learn/intro-to-sql) course.  You can reference the tutorial at [this link](https://www.kaggle.com/dansbecker/getting-started-with-sql-and-bigquery).**\n",
    "\n",
    "---\n"
   ]
  },
  {
   "cell_type": "markdown",
   "id": "1fcdb69a",
   "metadata": {
    "papermill": {
     "duration": 0.00505,
     "end_time": "2022-08-08T15:24:39.029904",
     "exception": false,
     "start_time": "2022-08-08T15:24:39.024854",
     "status": "completed"
    },
    "tags": []
   },
   "source": [
    "# Introduction\n",
    "\n",
    "The first test of your new data exploration skills uses data describing crime in the city of Chicago.\n",
    "\n",
    "Before you get started, run the following cell. It sets up the automated feedback system to review your answers."
   ]
  },
  {
   "cell_type": "code",
   "execution_count": 1,
   "id": "f89dd710",
   "metadata": {
    "execution": {
     "iopub.execute_input": "2022-08-08T15:24:39.043296Z",
     "iopub.status.busy": "2022-08-08T15:24:39.042845Z",
     "iopub.status.idle": "2022-08-08T15:24:40.005620Z",
     "shell.execute_reply": "2022-08-08T15:24:40.004621Z"
    },
    "papermill": {
     "duration": 0.972622,
     "end_time": "2022-08-08T15:24:40.008351",
     "exception": false,
     "start_time": "2022-08-08T15:24:39.035729",
     "status": "completed"
    },
    "tags": []
   },
   "outputs": [
    {
     "name": "stdout",
     "output_type": "stream",
     "text": [
      "Using Kaggle's public dataset BigQuery integration.\n",
      "Setup Complete\n"
     ]
    }
   ],
   "source": [
    "# Set up feedack system\n",
    "from learntools.core import binder\n",
    "binder.bind(globals())\n",
    "from learntools.sql.ex1 import *\n",
    "print(\"Setup Complete\")"
   ]
  },
  {
   "cell_type": "markdown",
   "id": "ff5b058a",
   "metadata": {
    "papermill": {
     "duration": 0.005704,
     "end_time": "2022-08-08T15:24:40.019886",
     "exception": false,
     "start_time": "2022-08-08T15:24:40.014182",
     "status": "completed"
    },
    "tags": []
   },
   "source": [
    "Use the next code cell to fetch the dataset."
   ]
  },
  {
   "cell_type": "code",
   "execution_count": 2,
   "id": "1d146f37",
   "metadata": {
    "execution": {
     "iopub.execute_input": "2022-08-08T15:24:40.033974Z",
     "iopub.status.busy": "2022-08-08T15:24:40.033093Z",
     "iopub.status.idle": "2022-08-08T15:24:40.410164Z",
     "shell.execute_reply": "2022-08-08T15:24:40.408918Z"
    },
    "papermill": {
     "duration": 0.386875,
     "end_time": "2022-08-08T15:24:40.412663",
     "exception": false,
     "start_time": "2022-08-08T15:24:40.025788",
     "status": "completed"
    },
    "tags": []
   },
   "outputs": [
    {
     "name": "stdout",
     "output_type": "stream",
     "text": [
      "Using Kaggle's public dataset BigQuery integration.\n"
     ]
    }
   ],
   "source": [
    "from google.cloud import bigquery\n",
    "\n",
    "# Create a \"Client\" object\n",
    "client = bigquery.Client()\n",
    "\n",
    "# Construct a reference to the \"chicago_crime\" dataset\n",
    "dataset_ref = client.dataset(\"chicago_crime\", project=\"bigquery-public-data\")\n",
    "\n",
    "# API request - fetch the dataset\n",
    "dataset = client.get_dataset(dataset_ref)"
   ]
  },
  {
   "cell_type": "markdown",
   "id": "0269ebd0",
   "metadata": {
    "papermill": {
     "duration": 0.005909,
     "end_time": "2022-08-08T15:24:40.424861",
     "exception": false,
     "start_time": "2022-08-08T15:24:40.418952",
     "status": "completed"
    },
    "tags": []
   },
   "source": [
    "# Exercises\n",
    "\n",
    "### 1) Count tables in the dataset\n",
    "\n",
    "How many tables are in the Chicago Crime dataset?"
   ]
  },
  {
   "cell_type": "code",
   "execution_count": 3,
   "id": "505e6abc",
   "metadata": {
    "execution": {
     "iopub.execute_input": "2022-08-08T15:24:40.439337Z",
     "iopub.status.busy": "2022-08-08T15:24:40.438220Z",
     "iopub.status.idle": "2022-08-08T15:24:40.443582Z",
     "shell.execute_reply": "2022-08-08T15:24:40.442208Z"
    },
    "papermill": {
     "duration": 0.015318,
     "end_time": "2022-08-08T15:24:40.446068",
     "exception": false,
     "start_time": "2022-08-08T15:24:40.430750",
     "status": "completed"
    },
    "tags": []
   },
   "outputs": [],
   "source": [
    "# Write the code you need here to figure out the answer"
   ]
  },
  {
   "cell_type": "code",
   "execution_count": 4,
   "id": "e36f6893",
   "metadata": {
    "execution": {
     "iopub.execute_input": "2022-08-08T15:24:40.459958Z",
     "iopub.status.busy": "2022-08-08T15:24:40.459472Z",
     "iopub.status.idle": "2022-08-08T15:24:40.753771Z",
     "shell.execute_reply": "2022-08-08T15:24:40.752386Z"
    },
    "papermill": {
     "duration": 0.305176,
     "end_time": "2022-08-08T15:24:40.757230",
     "exception": false,
     "start_time": "2022-08-08T15:24:40.452054",
     "status": "completed"
    },
    "tags": []
   },
   "outputs": [
    {
     "data": {
      "application/javascript": [
       "parent.postMessage({\"jupyterEvent\": \"custom.exercise_interaction\", \"data\": {\"outcomeType\": 1, \"valueTowardsCompletion\": 0.3333333333333333, \"interactionType\": 1, \"questionType\": 1, \"questionId\": \"1_CountTables\", \"learnToolsVersion\": \"0.3.4\", \"failureMessage\": \"\", \"exceptionClass\": \"\", \"trace\": \"\"}}, \"*\")"
      ],
      "text/plain": [
       "<IPython.core.display.Javascript object>"
      ]
     },
     "metadata": {},
     "output_type": "display_data"
    },
    {
     "data": {
      "text/markdown": [
       "<span style=\"color:#33cc33\">Correct</span>"
      ],
      "text/plain": [
       "Correct"
      ]
     },
     "metadata": {},
     "output_type": "display_data"
    }
   ],
   "source": [
    "num_tables = len(list(client.list_tables(dataset)))  # Store the answer as num_tables and then run this cell\n",
    "\n",
    "# Check your answer\n",
    "q_1.check()"
   ]
  },
  {
   "cell_type": "markdown",
   "id": "889bec4d",
   "metadata": {
    "papermill": {
     "duration": 0.005673,
     "end_time": "2022-08-08T15:24:40.769418",
     "exception": false,
     "start_time": "2022-08-08T15:24:40.763745",
     "status": "completed"
    },
    "tags": []
   },
   "source": [
    "For a hint or the solution, uncomment the appropriate line below."
   ]
  },
  {
   "cell_type": "code",
   "execution_count": 5,
   "id": "e89585ca",
   "metadata": {
    "execution": {
     "iopub.execute_input": "2022-08-08T15:24:40.783178Z",
     "iopub.status.busy": "2022-08-08T15:24:40.782738Z",
     "iopub.status.idle": "2022-08-08T15:24:40.787753Z",
     "shell.execute_reply": "2022-08-08T15:24:40.786535Z"
    },
    "papermill": {
     "duration": 0.014787,
     "end_time": "2022-08-08T15:24:40.790121",
     "exception": false,
     "start_time": "2022-08-08T15:24:40.775334",
     "status": "completed"
    },
    "tags": []
   },
   "outputs": [],
   "source": [
    "#q_1.hint()\n",
    "#q_1.solution()"
   ]
  },
  {
   "cell_type": "markdown",
   "id": "8931ba2e",
   "metadata": {
    "papermill": {
     "duration": 0.0056,
     "end_time": "2022-08-08T15:24:40.801597",
     "exception": false,
     "start_time": "2022-08-08T15:24:40.795997",
     "status": "completed"
    },
    "tags": []
   },
   "source": [
    "### 2) Explore the table schema\n",
    "\n",
    "How many columns in the `crime` table have `TIMESTAMP` data?"
   ]
  },
  {
   "cell_type": "code",
   "execution_count": 6,
   "id": "c53012e4",
   "metadata": {
    "execution": {
     "iopub.execute_input": "2022-08-08T15:24:40.815640Z",
     "iopub.status.busy": "2022-08-08T15:24:40.814800Z",
     "iopub.status.idle": "2022-08-08T15:24:40.819554Z",
     "shell.execute_reply": "2022-08-08T15:24:40.818800Z"
    },
    "papermill": {
     "duration": 0.014597,
     "end_time": "2022-08-08T15:24:40.821991",
     "exception": false,
     "start_time": "2022-08-08T15:24:40.807394",
     "status": "completed"
    },
    "tags": []
   },
   "outputs": [],
   "source": [
    "# Write the code to figure out the answer"
   ]
  },
  {
   "cell_type": "code",
   "execution_count": 7,
   "id": "3d5e2320",
   "metadata": {
    "execution": {
     "iopub.execute_input": "2022-08-08T15:24:40.835920Z",
     "iopub.status.busy": "2022-08-08T15:24:40.835125Z",
     "iopub.status.idle": "2022-08-08T15:24:41.118063Z",
     "shell.execute_reply": "2022-08-08T15:24:41.116739Z"
    },
    "papermill": {
     "duration": 0.293011,
     "end_time": "2022-08-08T15:24:41.120791",
     "exception": false,
     "start_time": "2022-08-08T15:24:40.827780",
     "status": "completed"
    },
    "tags": []
   },
   "outputs": [
    {
     "data": {
      "application/javascript": [
       "parent.postMessage({\"jupyterEvent\": \"custom.exercise_interaction\", \"data\": {\"outcomeType\": 1, \"valueTowardsCompletion\": 0.3333333333333333, \"interactionType\": 1, \"questionType\": 1, \"questionId\": \"2_CountTimestampFields\", \"learnToolsVersion\": \"0.3.4\", \"failureMessage\": \"\", \"exceptionClass\": \"\", \"trace\": \"\"}}, \"*\")"
      ],
      "text/plain": [
       "<IPython.core.display.Javascript object>"
      ]
     },
     "metadata": {},
     "output_type": "display_data"
    },
    {
     "data": {
      "text/markdown": [
       "<span style=\"color:#33cc33\">Correct</span>"
      ],
      "text/plain": [
       "Correct"
      ]
     },
     "metadata": {},
     "output_type": "display_data"
    }
   ],
   "source": [
    "table_ref = dataset_ref.table('crime')\n",
    "table = client.get_table(table_ref)\n",
    "num_timestamp_fields = sum(column.field_type == \"TIMESTAMP\" for column in table.schema)\n",
    "# Check your answer\n",
    "q_2.check()"
   ]
  },
  {
   "cell_type": "markdown",
   "id": "5d3a6cad",
   "metadata": {
    "papermill": {
     "duration": 0.005789,
     "end_time": "2022-08-08T15:24:41.132723",
     "exception": false,
     "start_time": "2022-08-08T15:24:41.126934",
     "status": "completed"
    },
    "tags": []
   },
   "source": [
    "For a hint or the solution, uncomment the appropriate line below."
   ]
  },
  {
   "cell_type": "code",
   "execution_count": 8,
   "id": "1a91aca4",
   "metadata": {
    "execution": {
     "iopub.execute_input": "2022-08-08T15:24:41.146647Z",
     "iopub.status.busy": "2022-08-08T15:24:41.146204Z",
     "iopub.status.idle": "2022-08-08T15:24:41.151229Z",
     "shell.execute_reply": "2022-08-08T15:24:41.149829Z"
    },
    "papermill": {
     "duration": 0.015252,
     "end_time": "2022-08-08T15:24:41.154063",
     "exception": false,
     "start_time": "2022-08-08T15:24:41.138811",
     "status": "completed"
    },
    "tags": []
   },
   "outputs": [],
   "source": [
    "#q_2.hint()\n",
    "#q_2.solution()"
   ]
  },
  {
   "cell_type": "markdown",
   "id": "e81c44dd",
   "metadata": {
    "papermill": {
     "duration": 0.005756,
     "end_time": "2022-08-08T15:24:41.166050",
     "exception": false,
     "start_time": "2022-08-08T15:24:41.160294",
     "status": "completed"
    },
    "tags": []
   },
   "source": [
    "### 3) Create a crime map\n",
    "\n",
    "If you wanted to create a map with a dot at the location of each crime, what are the names of the two fields you likely need to pull out of the `crime` table to plot the crimes on a map?"
   ]
  },
  {
   "cell_type": "code",
   "execution_count": 9,
   "id": "ed46ba75",
   "metadata": {
    "execution": {
     "iopub.execute_input": "2022-08-08T15:24:41.181663Z",
     "iopub.status.busy": "2022-08-08T15:24:41.180771Z",
     "iopub.status.idle": "2022-08-08T15:24:41.957796Z",
     "shell.execute_reply": "2022-08-08T15:24:41.956879Z"
    },
    "papermill": {
     "duration": 0.787978,
     "end_time": "2022-08-08T15:24:41.960157",
     "exception": false,
     "start_time": "2022-08-08T15:24:41.172179",
     "status": "completed"
    },
    "tags": []
   },
   "outputs": [
    {
     "name": "stderr",
     "output_type": "stream",
     "text": [
      "/opt/conda/lib/python3.7/site-packages/ipykernel_launcher.py:2: UserWarning: Cannot use bqstorage_client if max_results is set, reverting to fetching data with the tabledata.list endpoint.\n",
      "  \n"
     ]
    },
    {
     "data": {
      "text/html": [
       "<div>\n",
       "<style scoped>\n",
       "    .dataframe tbody tr th:only-of-type {\n",
       "        vertical-align: middle;\n",
       "    }\n",
       "\n",
       "    .dataframe tbody tr th {\n",
       "        vertical-align: top;\n",
       "    }\n",
       "\n",
       "    .dataframe thead th {\n",
       "        text-align: right;\n",
       "    }\n",
       "</style>\n",
       "<table border=\"1\" class=\"dataframe\">\n",
       "  <thead>\n",
       "    <tr style=\"text-align: right;\">\n",
       "      <th></th>\n",
       "      <th>unique_key</th>\n",
       "      <th>case_number</th>\n",
       "      <th>date</th>\n",
       "      <th>block</th>\n",
       "      <th>iucr</th>\n",
       "      <th>primary_type</th>\n",
       "      <th>description</th>\n",
       "      <th>location_description</th>\n",
       "      <th>arrest</th>\n",
       "      <th>domestic</th>\n",
       "      <th>...</th>\n",
       "      <th>ward</th>\n",
       "      <th>community_area</th>\n",
       "      <th>fbi_code</th>\n",
       "      <th>x_coordinate</th>\n",
       "      <th>y_coordinate</th>\n",
       "      <th>year</th>\n",
       "      <th>updated_on</th>\n",
       "      <th>latitude</th>\n",
       "      <th>longitude</th>\n",
       "      <th>location</th>\n",
       "    </tr>\n",
       "  </thead>\n",
       "  <tbody>\n",
       "    <tr>\n",
       "      <th>0</th>\n",
       "      <td>9433750</td>\n",
       "      <td>HW577533</td>\n",
       "      <td>2013-12-19 11:06:00+00:00</td>\n",
       "      <td>031XX S ASHLAND AVE</td>\n",
       "      <td>1822</td>\n",
       "      <td>NARCOTICS</td>\n",
       "      <td>MANU/DEL:CANNABIS OVER 10 GMS</td>\n",
       "      <td>PARKING LOT/GARAGE(NON.RESID.)</td>\n",
       "      <td>True</td>\n",
       "      <td>False</td>\n",
       "      <td>...</td>\n",
       "      <td>11</td>\n",
       "      <td>59</td>\n",
       "      <td>18</td>\n",
       "      <td>1166170.0</td>\n",
       "      <td>1884198.0</td>\n",
       "      <td>2013</td>\n",
       "      <td>2018-02-10 03:50:01+00:00</td>\n",
       "      <td>41.837818</td>\n",
       "      <td>-87.665743</td>\n",
       "      <td>(41.837817929, -87.665743225)</td>\n",
       "    </tr>\n",
       "  </tbody>\n",
       "</table>\n",
       "<p>1 rows × 22 columns</p>\n",
       "</div>"
      ],
      "text/plain": [
       "   unique_key case_number                      date                block  \\\n",
       "0     9433750    HW577533 2013-12-19 11:06:00+00:00  031XX S ASHLAND AVE   \n",
       "\n",
       "   iucr primary_type                    description  \\\n",
       "0  1822    NARCOTICS  MANU/DEL:CANNABIS OVER 10 GMS   \n",
       "\n",
       "             location_description  arrest  domestic  ...  ward  \\\n",
       "0  PARKING LOT/GARAGE(NON.RESID.)    True     False  ...    11   \n",
       "\n",
       "   community_area  fbi_code  x_coordinate y_coordinate  year  \\\n",
       "0              59        18     1166170.0    1884198.0  2013   \n",
       "\n",
       "                 updated_on   latitude  longitude  \\\n",
       "0 2018-02-10 03:50:01+00:00  41.837818 -87.665743   \n",
       "\n",
       "                        location  \n",
       "0  (41.837817929, -87.665743225)  \n",
       "\n",
       "[1 rows x 22 columns]"
      ]
     },
     "execution_count": 9,
     "metadata": {},
     "output_type": "execute_result"
    }
   ],
   "source": [
    "# Write the code here to explore the data so you can find the answer\n",
    "client.list_rows(table, max_results = 1).to_dataframe()"
   ]
  },
  {
   "cell_type": "code",
   "execution_count": 10,
   "id": "494e5900",
   "metadata": {
    "execution": {
     "iopub.execute_input": "2022-08-08T15:24:41.975755Z",
     "iopub.status.busy": "2022-08-08T15:24:41.974945Z",
     "iopub.status.idle": "2022-08-08T15:24:41.986971Z",
     "shell.execute_reply": "2022-08-08T15:24:41.985456Z"
    },
    "papermill": {
     "duration": 0.023203,
     "end_time": "2022-08-08T15:24:41.989876",
     "exception": false,
     "start_time": "2022-08-08T15:24:41.966673",
     "status": "completed"
    },
    "tags": []
   },
   "outputs": [
    {
     "name": "stdout",
     "output_type": "stream",
     "text": [
      "`'latitude'` and `'longitude'` would be better and more standard than `'x_coordinate'` and `'y_coordinate'`, but this might work.\n"
     ]
    },
    {
     "data": {
      "application/javascript": [
       "parent.postMessage({\"jupyterEvent\": \"custom.exercise_interaction\", \"data\": {\"outcomeType\": 1, \"valueTowardsCompletion\": 0.3333333333333333, \"interactionType\": 1, \"questionType\": 2, \"questionId\": \"3_IdentifyFieldsForPlotting\", \"learnToolsVersion\": \"0.3.4\", \"failureMessage\": \"\", \"exceptionClass\": \"\", \"trace\": \"\"}}, \"*\")"
      ],
      "text/plain": [
       "<IPython.core.display.Javascript object>"
      ]
     },
     "metadata": {},
     "output_type": "display_data"
    },
    {
     "data": {
      "text/markdown": [
       "<span style=\"color:#33cc33\">Correct</span>"
      ],
      "text/plain": [
       "Correct"
      ]
     },
     "metadata": {},
     "output_type": "display_data"
    }
   ],
   "source": [
    "fields_for_plotting = [\"x_coordinate\",\"y_coordinate\"] # Put your answers here\n",
    "\n",
    "# Check your answer\n",
    "q_3.check()"
   ]
  },
  {
   "cell_type": "markdown",
   "id": "59c6220b",
   "metadata": {
    "papermill": {
     "duration": 0.006692,
     "end_time": "2022-08-08T15:24:42.003808",
     "exception": false,
     "start_time": "2022-08-08T15:24:41.997116",
     "status": "completed"
    },
    "tags": []
   },
   "source": [
    "For a hint or the solution, uncomment the appropriate line below."
   ]
  },
  {
   "cell_type": "code",
   "execution_count": 11,
   "id": "4c112af7",
   "metadata": {
    "execution": {
     "iopub.execute_input": "2022-08-08T15:24:42.018907Z",
     "iopub.status.busy": "2022-08-08T15:24:42.018449Z",
     "iopub.status.idle": "2022-08-08T15:24:42.023589Z",
     "shell.execute_reply": "2022-08-08T15:24:42.022341Z"
    },
    "papermill": {
     "duration": 0.015578,
     "end_time": "2022-08-08T15:24:42.026084",
     "exception": false,
     "start_time": "2022-08-08T15:24:42.010506",
     "status": "completed"
    },
    "tags": []
   },
   "outputs": [],
   "source": [
    "#q_3.hint()\n",
    "#q_3.solution()"
   ]
  },
  {
   "cell_type": "markdown",
   "id": "d6c3949a",
   "metadata": {
    "papermill": {
     "duration": 0.006317,
     "end_time": "2022-08-08T15:24:42.039140",
     "exception": false,
     "start_time": "2022-08-08T15:24:42.032823",
     "status": "completed"
    },
    "tags": []
   },
   "source": [
    "Thinking about the question above, there are a few columns that appear to have geographic data. Look at a few values (with the `list_rows()` command) to see if you can determine their relationship.  Two columns will still be hard to interpret. But it should be obvious how the `location` column relates to `latitude` and `longitude`."
   ]
  },
  {
   "cell_type": "code",
   "execution_count": 12,
   "id": "cfe79cbf",
   "metadata": {
    "execution": {
     "iopub.execute_input": "2022-08-08T15:24:42.055876Z",
     "iopub.status.busy": "2022-08-08T15:24:42.055105Z",
     "iopub.status.idle": "2022-08-08T15:24:42.059400Z",
     "shell.execute_reply": "2022-08-08T15:24:42.058347Z"
    },
    "papermill": {
     "duration": 0.015604,
     "end_time": "2022-08-08T15:24:42.062108",
     "exception": false,
     "start_time": "2022-08-08T15:24:42.046504",
     "status": "completed"
    },
    "tags": []
   },
   "outputs": [],
   "source": [
    "# Scratch space for your code"
   ]
  },
  {
   "cell_type": "markdown",
   "id": "33b83378",
   "metadata": {
    "papermill": {
     "duration": 0.006279,
     "end_time": "2022-08-08T15:24:42.075108",
     "exception": false,
     "start_time": "2022-08-08T15:24:42.068829",
     "status": "completed"
    },
    "tags": []
   },
   "source": [
    "# Keep going\n",
    "\n",
    "You've looked at the schema, but you haven't yet done anything exciting with the data itself. Things get more interesting when you get to the data, so keep going to **[write your first SQL query](https://www.kaggle.com/dansbecker/select-from-where).**"
   ]
  },
  {
   "cell_type": "markdown",
   "id": "b55d105b",
   "metadata": {
    "papermill": {
     "duration": 0.006366,
     "end_time": "2022-08-08T15:24:42.088119",
     "exception": false,
     "start_time": "2022-08-08T15:24:42.081753",
     "status": "completed"
    },
    "tags": []
   },
   "source": [
    "---\n",
    "\n",
    "\n",
    "\n",
    "\n",
    "*Have questions or comments? Visit the [course discussion forum](https://www.kaggle.com/learn/intro-to-sql/discussion) to chat with other learners.*"
   ]
  }
 ],
 "metadata": {
  "kernelspec": {
   "display_name": "Python 3",
   "language": "python",
   "name": "python3"
  },
  "language_info": {
   "codemirror_mode": {
    "name": "ipython",
    "version": 3
   },
   "file_extension": ".py",
   "mimetype": "text/x-python",
   "name": "python",
   "nbconvert_exporter": "python",
   "pygments_lexer": "ipython3",
   "version": "3.7.12"
  },
  "papermill": {
   "default_parameters": {},
   "duration": 14.178387,
   "end_time": "2022-08-08T15:24:42.816983",
   "environment_variables": {},
   "exception": null,
   "input_path": "__notebook__.ipynb",
   "output_path": "__notebook__.ipynb",
   "parameters": {},
   "start_time": "2022-08-08T15:24:28.638596",
   "version": "2.3.4"
  }
 },
 "nbformat": 4,
 "nbformat_minor": 5
}
