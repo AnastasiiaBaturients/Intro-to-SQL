{
 "cells": [
  {
   "cell_type": "markdown",
   "id": "7a081566",
   "metadata": {
    "papermill": {
     "duration": 0.007837,
     "end_time": "2022-08-12T20:16:56.988837",
     "exception": false,
     "start_time": "2022-08-12T20:16:56.981000",
     "status": "completed"
    },
    "tags": []
   },
   "source": [
    "**This notebook is an exercise in the [SQL](https://www.kaggle.com/learn/intro-to-sql) course.  You can reference the tutorial at [this link](https://www.kaggle.com/dansbecker/as-with).**\n",
    "\n",
    "---\n"
   ]
  },
  {
   "cell_type": "markdown",
   "id": "0ea4f877",
   "metadata": {
    "papermill": {
     "duration": 0.006093,
     "end_time": "2022-08-12T20:16:57.001995",
     "exception": false,
     "start_time": "2022-08-12T20:16:56.995902",
     "status": "completed"
    },
    "tags": []
   },
   "source": [
    "# Introduction\n",
    "\n",
    "You are getting to the point where you can own an analysis from beginning to end. So you'll do more data exploration in this exercise than you've done before.  Before you get started, run the following set-up code as usual. "
   ]
  },
  {
   "cell_type": "code",
   "execution_count": 1,
   "id": "dad769fc",
   "metadata": {
    "execution": {
     "iopub.execute_input": "2022-08-12T20:16:57.016769Z",
     "iopub.status.busy": "2022-08-12T20:16:57.016043Z",
     "iopub.status.idle": "2022-08-12T20:17:01.046108Z",
     "shell.execute_reply": "2022-08-12T20:17:01.044310Z"
    },
    "papermill": {
     "duration": 4.040968,
     "end_time": "2022-08-12T20:17:01.049224",
     "exception": false,
     "start_time": "2022-08-12T20:16:57.008256",
     "status": "completed"
    },
    "tags": []
   },
   "outputs": [
    {
     "name": "stdout",
     "output_type": "stream",
     "text": [
      "Using Kaggle's public dataset BigQuery integration.\n"
     ]
    },
    {
     "name": "stderr",
     "output_type": "stream",
     "text": [
      "/opt/conda/lib/python3.7/site-packages/google/cloud/bigquery/client.py:440: UserWarning: Cannot create BigQuery Storage client, the dependency google-cloud-bigquery-storage is not installed.\n",
      "  \"Cannot create BigQuery Storage client, the dependency \"\n"
     ]
    },
    {
     "name": "stdout",
     "output_type": "stream",
     "text": [
      "Setup Complete\n"
     ]
    }
   ],
   "source": [
    "# Set up feedback system\n",
    "from learntools.core import binder\n",
    "binder.bind(globals())\n",
    "from learntools.sql.ex5 import *\n",
    "print(\"Setup Complete\")"
   ]
  },
  {
   "cell_type": "markdown",
   "id": "ef6ba320",
   "metadata": {
    "papermill": {
     "duration": 0.005991,
     "end_time": "2022-08-12T20:17:01.061931",
     "exception": false,
     "start_time": "2022-08-12T20:17:01.055940",
     "status": "completed"
    },
    "tags": []
   },
   "source": [
    "You'll work with a dataset about taxi trips in the city of Chicago. Run the cell below to fetch the `chicago_taxi_trips` dataset."
   ]
  },
  {
   "cell_type": "code",
   "execution_count": 2,
   "id": "45f7f3f7",
   "metadata": {
    "execution": {
     "iopub.execute_input": "2022-08-12T20:17:01.077951Z",
     "iopub.status.busy": "2022-08-12T20:17:01.076178Z",
     "iopub.status.idle": "2022-08-12T20:17:01.385007Z",
     "shell.execute_reply": "2022-08-12T20:17:01.383949Z"
    },
    "papermill": {
     "duration": 0.319416,
     "end_time": "2022-08-12T20:17:01.387656",
     "exception": false,
     "start_time": "2022-08-12T20:17:01.068240",
     "status": "completed"
    },
    "tags": []
   },
   "outputs": [
    {
     "name": "stdout",
     "output_type": "stream",
     "text": [
      "Using Kaggle's public dataset BigQuery integration.\n"
     ]
    }
   ],
   "source": [
    "from google.cloud import bigquery\n",
    "\n",
    "# Create a \"Client\" object\n",
    "client = bigquery.Client()\n",
    "\n",
    "# Construct a reference to the \"chicago_taxi_trips\" dataset\n",
    "dataset_ref = client.dataset(\"chicago_taxi_trips\", project=\"bigquery-public-data\")\n",
    "\n",
    "# API request - fetch the dataset\n",
    "dataset = client.get_dataset(dataset_ref)"
   ]
  },
  {
   "cell_type": "markdown",
   "id": "2d3cb156",
   "metadata": {
    "papermill": {
     "duration": 0.006147,
     "end_time": "2022-08-12T20:17:01.400211",
     "exception": false,
     "start_time": "2022-08-12T20:17:01.394064",
     "status": "completed"
    },
    "tags": []
   },
   "source": [
    "# Exercises\n",
    "\n",
    "You are curious how much slower traffic moves when traffic volume is high. This involves a few steps.\n",
    "\n",
    "### 1) Find the data\n",
    "Before you can access the data, you need to find the table name with the data.\n",
    "\n",
    "*Hint*: Tab completion is helpful whenever you can't remember a command. Type `client.` and then hit the tab key. Don't forget the period before hitting tab."
   ]
  },
  {
   "cell_type": "code",
   "execution_count": 3,
   "id": "adc40958",
   "metadata": {
    "execution": {
     "iopub.execute_input": "2022-08-12T20:17:01.414747Z",
     "iopub.status.busy": "2022-08-12T20:17:01.414018Z",
     "iopub.status.idle": "2022-08-12T20:17:01.418077Z",
     "shell.execute_reply": "2022-08-12T20:17:01.417310Z"
    },
    "papermill": {
     "duration": 0.013497,
     "end_time": "2022-08-12T20:17:01.419935",
     "exception": false,
     "start_time": "2022-08-12T20:17:01.406438",
     "status": "completed"
    },
    "tags": []
   },
   "outputs": [],
   "source": [
    "# Your code here to find the table name"
   ]
  },
  {
   "cell_type": "code",
   "execution_count": 4,
   "id": "2cda52d2",
   "metadata": {
    "execution": {
     "iopub.execute_input": "2022-08-12T20:17:01.434505Z",
     "iopub.status.busy": "2022-08-12T20:17:01.433850Z",
     "iopub.status.idle": "2022-08-12T20:17:01.706766Z",
     "shell.execute_reply": "2022-08-12T20:17:01.705509Z"
    },
    "papermill": {
     "duration": 0.282984,
     "end_time": "2022-08-12T20:17:01.709230",
     "exception": false,
     "start_time": "2022-08-12T20:17:01.426246",
     "status": "completed"
    },
    "tags": []
   },
   "outputs": [
    {
     "data": {
      "application/javascript": [
       "parent.postMessage({\"jupyterEvent\": \"custom.exercise_interaction\", \"data\": {\"outcomeType\": 1, \"valueTowardsCompletion\": 0.16666666666666666, \"interactionType\": 1, \"questionType\": 1, \"questionId\": \"1_GetTableName\", \"learnToolsVersion\": \"0.3.4\", \"failureMessage\": \"\", \"exceptionClass\": \"\", \"trace\": \"\"}}, \"*\")"
      ],
      "text/plain": [
       "<IPython.core.display.Javascript object>"
      ]
     },
     "metadata": {},
     "output_type": "display_data"
    },
    {
     "data": {
      "text/markdown": [
       "<span style=\"color:#33cc33\">Correct</span>"
      ],
      "text/plain": [
       "Correct"
      ]
     },
     "metadata": {},
     "output_type": "display_data"
    }
   ],
   "source": [
    "# Write the table name as a string below\n",
    "table_name = list(client.list_tables(dataset))[0].table_id\n",
    "\n",
    "# Check your answer\n",
    "q_1.check()"
   ]
  },
  {
   "cell_type": "markdown",
   "id": "401d8575",
   "metadata": {
    "papermill": {
     "duration": 0.006365,
     "end_time": "2022-08-12T20:17:01.722178",
     "exception": false,
     "start_time": "2022-08-12T20:17:01.715813",
     "status": "completed"
    },
    "tags": []
   },
   "source": [
    "For the solution, uncomment the line below."
   ]
  },
  {
   "cell_type": "code",
   "execution_count": 5,
   "id": "488ad0f0",
   "metadata": {
    "execution": {
     "iopub.execute_input": "2022-08-12T20:17:01.737667Z",
     "iopub.status.busy": "2022-08-12T20:17:01.736874Z",
     "iopub.status.idle": "2022-08-12T20:17:01.741132Z",
     "shell.execute_reply": "2022-08-12T20:17:01.740326Z"
    },
    "papermill": {
     "duration": 0.014369,
     "end_time": "2022-08-12T20:17:01.743062",
     "exception": false,
     "start_time": "2022-08-12T20:17:01.728693",
     "status": "completed"
    },
    "tags": []
   },
   "outputs": [],
   "source": [
    "#q_1.solution()"
   ]
  },
  {
   "cell_type": "markdown",
   "id": "3d8381a8",
   "metadata": {
    "papermill": {
     "duration": 0.00634,
     "end_time": "2022-08-12T20:17:01.755938",
     "exception": false,
     "start_time": "2022-08-12T20:17:01.749598",
     "status": "completed"
    },
    "tags": []
   },
   "source": [
    "### 2) Peek at the data\n",
    "\n",
    "Use the next code cell to peek at the top few rows of the data. Inspect the data and see if any issues with data quality are immediately obvious. "
   ]
  },
  {
   "cell_type": "code",
   "execution_count": 6,
   "id": "d82a2b55",
   "metadata": {
    "execution": {
     "iopub.execute_input": "2022-08-12T20:17:01.771261Z",
     "iopub.status.busy": "2022-08-12T20:17:01.770542Z",
     "iopub.status.idle": "2022-08-12T20:17:02.880620Z",
     "shell.execute_reply": "2022-08-12T20:17:02.879556Z"
    },
    "papermill": {
     "duration": 1.120173,
     "end_time": "2022-08-12T20:17:02.882646",
     "exception": false,
     "start_time": "2022-08-12T20:17:01.762473",
     "status": "completed"
    },
    "tags": []
   },
   "outputs": [
    {
     "name": "stderr",
     "output_type": "stream",
     "text": [
      "/opt/conda/lib/python3.7/site-packages/ipykernel_launcher.py:2: UserWarning: Cannot use bqstorage_client if max_results is set, reverting to fetching data with the tabledata.list endpoint.\n",
      "  \n"
     ]
    },
    {
     "data": {
      "text/html": [
       "<div>\n",
       "<style scoped>\n",
       "    .dataframe tbody tr th:only-of-type {\n",
       "        vertical-align: middle;\n",
       "    }\n",
       "\n",
       "    .dataframe tbody tr th {\n",
       "        vertical-align: top;\n",
       "    }\n",
       "\n",
       "    .dataframe thead th {\n",
       "        text-align: right;\n",
       "    }\n",
       "</style>\n",
       "<table border=\"1\" class=\"dataframe\">\n",
       "  <thead>\n",
       "    <tr style=\"text-align: right;\">\n",
       "      <th></th>\n",
       "      <th>unique_key</th>\n",
       "      <th>taxi_id</th>\n",
       "      <th>trip_start_timestamp</th>\n",
       "      <th>trip_end_timestamp</th>\n",
       "      <th>trip_seconds</th>\n",
       "      <th>trip_miles</th>\n",
       "      <th>pickup_census_tract</th>\n",
       "      <th>dropoff_census_tract</th>\n",
       "      <th>pickup_community_area</th>\n",
       "      <th>dropoff_community_area</th>\n",
       "      <th>...</th>\n",
       "      <th>extras</th>\n",
       "      <th>trip_total</th>\n",
       "      <th>payment_type</th>\n",
       "      <th>company</th>\n",
       "      <th>pickup_latitude</th>\n",
       "      <th>pickup_longitude</th>\n",
       "      <th>pickup_location</th>\n",
       "      <th>dropoff_latitude</th>\n",
       "      <th>dropoff_longitude</th>\n",
       "      <th>dropoff_location</th>\n",
       "    </tr>\n",
       "  </thead>\n",
       "  <tbody>\n",
       "    <tr>\n",
       "      <th>0</th>\n",
       "      <td>7b3e74418111fef19fd73835853d9c1cebd727d5</td>\n",
       "      <td>fa62820eb95bd0b9cc1a0aaf6cf26730aee22ec578db91...</td>\n",
       "      <td>2014-04-01 16:00:00+00:00</td>\n",
       "      <td>2014-04-01 16:00:00+00:00</td>\n",
       "      <td>0</td>\n",
       "      <td>0.0</td>\n",
       "      <td>NaN</td>\n",
       "      <td>NaN</td>\n",
       "      <td>NaN</td>\n",
       "      <td>NaN</td>\n",
       "      <td>...</td>\n",
       "      <td>0.0</td>\n",
       "      <td>6.45</td>\n",
       "      <td>Credit Card</td>\n",
       "      <td>Chicago Elite Cab Corp. (Chicago Carriag</td>\n",
       "      <td>NaN</td>\n",
       "      <td>NaN</td>\n",
       "      <td>None</td>\n",
       "      <td>NaN</td>\n",
       "      <td>NaN</td>\n",
       "      <td>None</td>\n",
       "    </tr>\n",
       "    <tr>\n",
       "      <th>1</th>\n",
       "      <td>9d2eefe122d32a385207087a71dd33deed0eea96</td>\n",
       "      <td>89612cda57630834fb854b4e42206d3478145557d975ce...</td>\n",
       "      <td>2014-03-06 21:30:00+00:00</td>\n",
       "      <td>2014-03-06 21:30:00+00:00</td>\n",
       "      <td>0</td>\n",
       "      <td>0.0</td>\n",
       "      <td>NaN</td>\n",
       "      <td>NaN</td>\n",
       "      <td>NaN</td>\n",
       "      <td>NaN</td>\n",
       "      <td>...</td>\n",
       "      <td>0.0</td>\n",
       "      <td>12.05</td>\n",
       "      <td>Credit Card</td>\n",
       "      <td>Chicago Elite Cab Corp. (Chicago Carriag</td>\n",
       "      <td>NaN</td>\n",
       "      <td>NaN</td>\n",
       "      <td>None</td>\n",
       "      <td>NaN</td>\n",
       "      <td>NaN</td>\n",
       "      <td>None</td>\n",
       "    </tr>\n",
       "    <tr>\n",
       "      <th>2</th>\n",
       "      <td>a8410244d022d258ae357f6ede25d0162efd675f</td>\n",
       "      <td>36dee7e88e2048dfeb8a98c9e420a1600544a8d4f21fe6...</td>\n",
       "      <td>2014-04-18 10:45:00+00:00</td>\n",
       "      <td>2014-04-18 10:45:00+00:00</td>\n",
       "      <td>0</td>\n",
       "      <td>0.0</td>\n",
       "      <td>NaN</td>\n",
       "      <td>NaN</td>\n",
       "      <td>NaN</td>\n",
       "      <td>NaN</td>\n",
       "      <td>...</td>\n",
       "      <td>0.0</td>\n",
       "      <td>12.55</td>\n",
       "      <td>Credit Card</td>\n",
       "      <td>Chicago Elite Cab Corp. (Chicago Carriag</td>\n",
       "      <td>NaN</td>\n",
       "      <td>NaN</td>\n",
       "      <td>None</td>\n",
       "      <td>NaN</td>\n",
       "      <td>NaN</td>\n",
       "      <td>None</td>\n",
       "    </tr>\n",
       "  </tbody>\n",
       "</table>\n",
       "<p>3 rows × 23 columns</p>\n",
       "</div>"
      ],
      "text/plain": [
       "                                 unique_key  \\\n",
       "0  7b3e74418111fef19fd73835853d9c1cebd727d5   \n",
       "1  9d2eefe122d32a385207087a71dd33deed0eea96   \n",
       "2  a8410244d022d258ae357f6ede25d0162efd675f   \n",
       "\n",
       "                                             taxi_id  \\\n",
       "0  fa62820eb95bd0b9cc1a0aaf6cf26730aee22ec578db91...   \n",
       "1  89612cda57630834fb854b4e42206d3478145557d975ce...   \n",
       "2  36dee7e88e2048dfeb8a98c9e420a1600544a8d4f21fe6...   \n",
       "\n",
       "       trip_start_timestamp        trip_end_timestamp  trip_seconds  \\\n",
       "0 2014-04-01 16:00:00+00:00 2014-04-01 16:00:00+00:00             0   \n",
       "1 2014-03-06 21:30:00+00:00 2014-03-06 21:30:00+00:00             0   \n",
       "2 2014-04-18 10:45:00+00:00 2014-04-18 10:45:00+00:00             0   \n",
       "\n",
       "   trip_miles  pickup_census_tract  dropoff_census_tract  \\\n",
       "0         0.0                  NaN                   NaN   \n",
       "1         0.0                  NaN                   NaN   \n",
       "2         0.0                  NaN                   NaN   \n",
       "\n",
       "   pickup_community_area  dropoff_community_area  ...  extras  trip_total  \\\n",
       "0                    NaN                     NaN  ...     0.0        6.45   \n",
       "1                    NaN                     NaN  ...     0.0       12.05   \n",
       "2                    NaN                     NaN  ...     0.0       12.55   \n",
       "\n",
       "   payment_type                                   company  pickup_latitude  \\\n",
       "0   Credit Card  Chicago Elite Cab Corp. (Chicago Carriag              NaN   \n",
       "1   Credit Card  Chicago Elite Cab Corp. (Chicago Carriag              NaN   \n",
       "2   Credit Card  Chicago Elite Cab Corp. (Chicago Carriag              NaN   \n",
       "\n",
       "  pickup_longitude pickup_location  dropoff_latitude  dropoff_longitude  \\\n",
       "0              NaN            None               NaN                NaN   \n",
       "1              NaN            None               NaN                NaN   \n",
       "2              NaN            None               NaN                NaN   \n",
       "\n",
       "  dropoff_location  \n",
       "0             None  \n",
       "1             None  \n",
       "2             None  \n",
       "\n",
       "[3 rows x 23 columns]"
      ]
     },
     "execution_count": 6,
     "metadata": {},
     "output_type": "execute_result"
    }
   ],
   "source": [
    "# Your code here\n",
    "client.list_rows(dataset.table(table_name), max_results=3).to_dataframe()"
   ]
  },
  {
   "cell_type": "markdown",
   "id": "bb71b1de",
   "metadata": {
    "papermill": {
     "duration": 0.007723,
     "end_time": "2022-08-12T20:17:02.897829",
     "exception": false,
     "start_time": "2022-08-12T20:17:02.890106",
     "status": "completed"
    },
    "tags": []
   },
   "source": [
    "After deciding whether you see any important issues, run the code cell below."
   ]
  },
  {
   "cell_type": "code",
   "execution_count": 7,
   "id": "afc28c09",
   "metadata": {
    "execution": {
     "iopub.execute_input": "2022-08-12T20:17:02.914605Z",
     "iopub.status.busy": "2022-08-12T20:17:02.913655Z",
     "iopub.status.idle": "2022-08-12T20:17:02.921517Z",
     "shell.execute_reply": "2022-08-12T20:17:02.920633Z"
    },
    "papermill": {
     "duration": 0.018501,
     "end_time": "2022-08-12T20:17:02.923421",
     "exception": false,
     "start_time": "2022-08-12T20:17:02.904920",
     "status": "completed"
    },
    "tags": []
   },
   "outputs": [
    {
     "data": {
      "application/javascript": [
       "parent.postMessage({\"jupyterEvent\": \"custom.exercise_interaction\", \"data\": {\"interactionType\": 3, \"questionType\": 4, \"questionId\": \"2_WhatsWrongWithData\", \"learnToolsVersion\": \"0.3.4\", \"valueTowardsCompletion\": 0.0, \"failureMessage\": \"\", \"exceptionClass\": \"\", \"trace\": \"\", \"outcomeType\": 4}}, \"*\")"
      ],
      "text/plain": [
       "<IPython.core.display.Javascript object>"
      ]
     },
     "metadata": {},
     "output_type": "display_data"
    },
    {
     "data": {
      "text/markdown": [
       "<span style=\"color:#33cc99\">Solution:</span> \n",
       "You can see the data by calling: \n",
       "```python\n",
       "# Construct a reference to the \"taxi_trips\" table\n",
       "table_ref = dataset_ref.table(\"taxi_trips\")\n",
       "\n",
       "# API request - fetch the table\n",
       "table = client.get_table(table_ref)\n",
       "\n",
       "# Preview the first five lines of the \"taxi_trips\" table\n",
       "client.list_rows(table, max_results=5).to_dataframe()\n",
       "```\n",
       "\n",
       "Some trips in the top few rows have `trip_seconds` or `trip_miles` values of 0. \n",
       "Other location fields have values of `None`. That is a problem if we want to use those fields.\n"
      ],
      "text/plain": [
       "Solution: \n",
       "You can see the data by calling: \n",
       "```python\n",
       "# Construct a reference to the \"taxi_trips\" table\n",
       "table_ref = dataset_ref.table(\"taxi_trips\")\n",
       "\n",
       "# API request - fetch the table\n",
       "table = client.get_table(table_ref)\n",
       "\n",
       "# Preview the first five lines of the \"taxi_trips\" table\n",
       "client.list_rows(table, max_results=5).to_dataframe()\n",
       "```\n",
       "\n",
       "Some trips in the top few rows have `trip_seconds` or `trip_miles` values of 0. \n",
       "Other location fields have values of `None`. That is a problem if we want to use those fields."
      ]
     },
     "metadata": {},
     "output_type": "display_data"
    }
   ],
   "source": [
    "# Check your answer (Run this code cell to receive credit!)\n",
    "q_2.solution()"
   ]
  },
  {
   "cell_type": "markdown",
   "id": "e3b45fad",
   "metadata": {
    "papermill": {
     "duration": 0.006932,
     "end_time": "2022-08-12T20:17:02.937481",
     "exception": false,
     "start_time": "2022-08-12T20:17:02.930549",
     "status": "completed"
    },
    "tags": []
   },
   "source": [
    "### 3) Determine when this data is from\n",
    "\n",
    "If the data is sufficiently old, we might be careful before assuming the data is still relevant to traffic patterns today. Write a query that counts the number of trips in each year.  \n",
    "\n",
    "Your results should have two columns:\n",
    "- `year` - the year of the trips\n",
    "- `num_trips` - the number of trips in that year\n",
    "\n",
    "Hints:\n",
    "- When using **GROUP BY** and **ORDER BY**, you should refer to the columns by the alias `year` that you set at the top of the **SELECT** query.\n",
    "- The SQL code to **SELECT** the year from `trip_start_timestamp` is <code>SELECT EXTRACT(YEAR FROM trip_start_timestamp)</code>\n",
    "- The **FROM** field can be a little tricky until you are used to it.  The format is:\n",
    "    1. A backick (the symbol \\`).\n",
    "    2. The project name. In this case it is `bigquery-public-data`.\n",
    "    3. A period.\n",
    "    4. The dataset name. In this case, it is `chicago_taxi_trips`.\n",
    "    5. A period.\n",
    "    6. The table name. You used this as your answer in **1) Find the data**.\n",
    "    7. A backtick (the symbol \\`)."
   ]
  },
  {
   "cell_type": "code",
   "execution_count": 8,
   "id": "623d64af",
   "metadata": {
    "execution": {
     "iopub.execute_input": "2022-08-12T20:17:02.954737Z",
     "iopub.status.busy": "2022-08-12T20:17:02.953726Z",
     "iopub.status.idle": "2022-08-12T20:17:04.162849Z",
     "shell.execute_reply": "2022-08-12T20:17:04.161773Z"
    },
    "papermill": {
     "duration": 1.220005,
     "end_time": "2022-08-12T20:17:04.165058",
     "exception": false,
     "start_time": "2022-08-12T20:17:02.945053",
     "status": "completed"
    },
    "tags": []
   },
   "outputs": [
    {
     "name": "stderr",
     "output_type": "stream",
     "text": [
      "/opt/conda/lib/python3.7/site-packages/google/cloud/bigquery/client.py:440: UserWarning: Cannot create BigQuery Storage client, the dependency google-cloud-bigquery-storage is not installed.\n",
      "  \"Cannot create BigQuery Storage client, the dependency \"\n"
     ]
    },
    {
     "name": "stdout",
     "output_type": "stream",
     "text": [
      "   year  num_trips\n",
      "0  2013   27217716\n",
      "1  2014   37395436\n",
      "2  2015   32385875\n",
      "3  2016   31759339\n",
      "4  2017   24988003\n",
      "5  2018   20732088\n",
      "6  2019   16477365\n",
      "7  2020    3889032\n",
      "8  2021    3948045\n",
      "9  2022    2948615\n"
     ]
    },
    {
     "data": {
      "application/javascript": [
       "parent.postMessage({\"jupyterEvent\": \"custom.exercise_interaction\", \"data\": {\"outcomeType\": 1, \"valueTowardsCompletion\": 0.16666666666666666, \"interactionType\": 1, \"questionType\": 2, \"questionId\": \"3_YearDistrib\", \"learnToolsVersion\": \"0.3.4\", \"failureMessage\": \"\", \"exceptionClass\": \"\", \"trace\": \"\"}}, \"*\")"
      ],
      "text/plain": [
       "<IPython.core.display.Javascript object>"
      ]
     },
     "metadata": {},
     "output_type": "display_data"
    },
    {
     "data": {
      "text/markdown": [
       "<span style=\"color:#33cc33\">Correct</span>"
      ],
      "text/plain": [
       "Correct"
      ]
     },
     "metadata": {},
     "output_type": "display_data"
    }
   ],
   "source": [
    "# Your code goes here\n",
    "rides_per_year_query = \"\"\"\n",
    "                        SELECT EXTRACT(YEAR FROM trip_start_timestamp) AS year, COUNT(unique_key) AS num_trips\n",
    "                        FROM `bigquery-public-data.chicago_taxi_trips.taxi_trips`\n",
    "                        GROUP BY year\n",
    "                        ORDER BY year\n",
    "                        \"\"\"\n",
    "\n",
    "# Set up the query (cancel the query if it would use too much of \n",
    "# your quota)\n",
    "safe_config = bigquery.QueryJobConfig(maximum_bytes_billed=10**11)\n",
    "rides_per_year_query_job = client.query(rides_per_year_query,job_config=safe_config) # Your code goes here\n",
    "\n",
    "# API request - run the query, and return a pandas DataFrame\n",
    "rides_per_year_result = rides_per_year_query_job.to_dataframe() # Your code goes here\n",
    "\n",
    "# View results\n",
    "print(rides_per_year_result)\n",
    "\n",
    "# Check your answer\n",
    "q_3.check()"
   ]
  },
  {
   "cell_type": "markdown",
   "id": "ed3824e5",
   "metadata": {
    "papermill": {
     "duration": 0.007283,
     "end_time": "2022-08-12T20:17:04.179803",
     "exception": false,
     "start_time": "2022-08-12T20:17:04.172520",
     "status": "completed"
    },
    "tags": []
   },
   "source": [
    "For a hint or the solution, uncomment the appropriate line below."
   ]
  },
  {
   "cell_type": "code",
   "execution_count": 9,
   "id": "118f9c54",
   "metadata": {
    "execution": {
     "iopub.execute_input": "2022-08-12T20:17:04.196682Z",
     "iopub.status.busy": "2022-08-12T20:17:04.196294Z",
     "iopub.status.idle": "2022-08-12T20:17:04.200615Z",
     "shell.execute_reply": "2022-08-12T20:17:04.199466Z"
    },
    "papermill": {
     "duration": 0.015484,
     "end_time": "2022-08-12T20:17:04.202833",
     "exception": false,
     "start_time": "2022-08-12T20:17:04.187349",
     "status": "completed"
    },
    "tags": []
   },
   "outputs": [],
   "source": [
    "#q_3.hint()\n",
    "#q_3.solution()"
   ]
  },
  {
   "cell_type": "markdown",
   "id": "f9c1b9be",
   "metadata": {
    "papermill": {
     "duration": 0.007437,
     "end_time": "2022-08-12T20:17:04.217941",
     "exception": false,
     "start_time": "2022-08-12T20:17:04.210504",
     "status": "completed"
    },
    "tags": []
   },
   "source": [
    "### 4) Dive slightly deeper\n",
    "\n",
    "You'd like to take a closer look at rides from 2017.  Copy the query you used above in `rides_per_year_query` into the cell below for `rides_per_month_query`.  Then modify it in two ways:\n",
    "1. Use a **WHERE** clause to limit the query to data from 2017.\n",
    "2. Modify the query to extract the month rather than the year."
   ]
  },
  {
   "cell_type": "code",
   "execution_count": 10,
   "id": "df5ab429",
   "metadata": {
    "execution": {
     "iopub.execute_input": "2022-08-12T20:17:04.235584Z",
     "iopub.status.busy": "2022-08-12T20:17:04.235217Z",
     "iopub.status.idle": "2022-08-12T20:17:05.296212Z",
     "shell.execute_reply": "2022-08-12T20:17:05.295216Z"
    },
    "papermill": {
     "duration": 1.072696,
     "end_time": "2022-08-12T20:17:05.298368",
     "exception": false,
     "start_time": "2022-08-12T20:17:04.225672",
     "status": "completed"
    },
    "tags": []
   },
   "outputs": [
    {
     "name": "stderr",
     "output_type": "stream",
     "text": [
      "/opt/conda/lib/python3.7/site-packages/google/cloud/bigquery/client.py:440: UserWarning: Cannot create BigQuery Storage client, the dependency google-cloud-bigquery-storage is not installed.\n",
      "  \"Cannot create BigQuery Storage client, the dependency \"\n"
     ]
    },
    {
     "name": "stdout",
     "output_type": "stream",
     "text": [
      "    month  num_trips\n",
      "0       1    1972071\n",
      "1       2    1909802\n",
      "2       3    2362105\n",
      "3       4    2194702\n",
      "4       5    2323386\n",
      "5       6    2324472\n",
      "6       7    2054299\n",
      "7       8    2079861\n",
      "8       9    1950631\n",
      "9      10    2141197\n",
      "10     11    1907997\n",
      "11     12    1767480\n"
     ]
    },
    {
     "data": {
      "application/javascript": [
       "parent.postMessage({\"jupyterEvent\": \"custom.exercise_interaction\", \"data\": {\"outcomeType\": 1, \"valueTowardsCompletion\": 0.16666666666666666, \"interactionType\": 1, \"questionType\": 2, \"questionId\": \"4_MonthDistrib\", \"learnToolsVersion\": \"0.3.4\", \"failureMessage\": \"\", \"exceptionClass\": \"\", \"trace\": \"\"}}, \"*\")"
      ],
      "text/plain": [
       "<IPython.core.display.Javascript object>"
      ]
     },
     "metadata": {},
     "output_type": "display_data"
    },
    {
     "data": {
      "text/markdown": [
       "<span style=\"color:#33cc33\">Correct</span>"
      ],
      "text/plain": [
       "Correct"
      ]
     },
     "metadata": {},
     "output_type": "display_data"
    }
   ],
   "source": [
    "# Your code goes here\n",
    "rides_per_month_query = \"\"\"\n",
    "                        SELECT EXTRACT(MONTH FROM trip_start_timestamp) AS month, COUNT(unique_key) AS num_trips\n",
    "                        FROM `bigquery-public-data.chicago_taxi_trips.taxi_trips`\n",
    "                        WHERE EXTRACT(YEAR FROM trip_start_timestamp)=2017\n",
    "                        GROUP BY month\n",
    "                        ORDER BY month\n",
    "                        \"\"\"  \n",
    "\n",
    "# Set up the query\n",
    "safe_config = bigquery.QueryJobConfig(maximum_bytes_billed=10**11)\n",
    "rides_per_month_query_job = client.query(rides_per_month_query,job_config=safe_config) # Your code goes here\n",
    "\n",
    "# API request - run the query, and return a pandas DataFrame\n",
    "rides_per_month_result = rides_per_month_query_job.to_dataframe() # Your code goes here\n",
    "\n",
    "# View results\n",
    "print(rides_per_month_result)\n",
    "\n",
    "# Check your answer\n",
    "q_4.check()"
   ]
  },
  {
   "cell_type": "markdown",
   "id": "1381ad19",
   "metadata": {
    "papermill": {
     "duration": 0.007799,
     "end_time": "2022-08-12T20:17:05.314336",
     "exception": false,
     "start_time": "2022-08-12T20:17:05.306537",
     "status": "completed"
    },
    "tags": []
   },
   "source": [
    "For a hint or the solution, uncomment the appropriate line below."
   ]
  },
  {
   "cell_type": "code",
   "execution_count": 11,
   "id": "642b4f80",
   "metadata": {
    "execution": {
     "iopub.execute_input": "2022-08-12T20:17:05.331971Z",
     "iopub.status.busy": "2022-08-12T20:17:05.331577Z",
     "iopub.status.idle": "2022-08-12T20:17:05.335593Z",
     "shell.execute_reply": "2022-08-12T20:17:05.334489Z"
    },
    "papermill": {
     "duration": 0.015848,
     "end_time": "2022-08-12T20:17:05.338018",
     "exception": false,
     "start_time": "2022-08-12T20:17:05.322170",
     "status": "completed"
    },
    "tags": []
   },
   "outputs": [],
   "source": [
    "#q_4.hint()\n",
    "#q_4.solution()"
   ]
  },
  {
   "cell_type": "markdown",
   "id": "07be8888",
   "metadata": {
    "papermill": {
     "duration": 0.007653,
     "end_time": "2022-08-12T20:17:05.353970",
     "exception": false,
     "start_time": "2022-08-12T20:17:05.346317",
     "status": "completed"
    },
    "tags": []
   },
   "source": [
    "### 5) Write the query\n",
    "\n",
    "It's time to step up the sophistication of your queries.  Write a query that shows, for each hour of the day in the dataset, the corresponding number of trips and average speed.\n",
    "\n",
    "Your results should have three columns:\n",
    "- `hour_of_day` - sort by this column, which holds the result of extracting the hour from `trip_start_timestamp`.\n",
    "- `num_trips` - the count of the total number of trips in each hour of the day (e.g. how many trips were started between 6AM and 7AM, independent of which day it occurred on).\n",
    "- `avg_mph` - the average speed, measured in miles per hour, for trips that started in that hour of the day.  Average speed in miles per hour is calculated as `3600 * SUM(trip_miles) / SUM(trip_seconds)`. (The value 3600 is used to convert from seconds to hours.)\n",
    "\n",
    "Restrict your query to data meeting the following criteria:\n",
    "- a `trip_start_timestamp` between **2017-01-01** and **2017-07-01**\n",
    "- `trip_seconds` > 0 and `trip_miles` > 0\n",
    "\n",
    "You will use a common table expression (CTE) to select just the relevant rides.  Because this dataset is very big, this CTE should select only the columns you'll need to create the final output (though you won't actually create those in the CTE -- instead you'll create those in the later **SELECT** statement below the CTE).\n",
    "\n",
    "This is a much harder query than anything you've written so far.  Good luck!"
   ]
  },
  {
   "cell_type": "code",
   "execution_count": 12,
   "id": "33f1c152",
   "metadata": {
    "execution": {
     "iopub.execute_input": "2022-08-12T20:17:05.371637Z",
     "iopub.status.busy": "2022-08-12T20:17:05.371263Z",
     "iopub.status.idle": "2022-08-12T20:17:06.408369Z",
     "shell.execute_reply": "2022-08-12T20:17:06.407157Z"
    },
    "papermill": {
     "duration": 1.048966,
     "end_time": "2022-08-12T20:17:06.410853",
     "exception": false,
     "start_time": "2022-08-12T20:17:05.361887",
     "status": "completed"
    },
    "tags": []
   },
   "outputs": [
    {
     "name": "stderr",
     "output_type": "stream",
     "text": [
      "/opt/conda/lib/python3.7/site-packages/google/cloud/bigquery/client.py:440: UserWarning: Cannot create BigQuery Storage client, the dependency google-cloud-bigquery-storage is not installed.\n",
      "  \"Cannot create BigQuery Storage client, the dependency \"\n"
     ]
    },
    {
     "name": "stdout",
     "output_type": "stream",
     "text": [
      "    hour_of_day  num_trips    avg_mph\n",
      "0             0     319339  20.230524\n",
      "1             1     266529  18.937621\n",
      "2             2     210147  18.777070\n",
      "3             3     159668  20.158048\n",
      "4             4     122183  26.736014\n",
      "5             5     119312  30.769172\n",
      "6             6     182738  24.588313\n",
      "7             7     358406  17.735967\n",
      "8             8     541775  15.079892\n",
      "9             9     565548  16.543882\n",
      "10           10     525120  18.539614\n",
      "11           11     594603  18.928379\n",
      "12           12     622324  17.838745\n",
      "13           13     630181  17.671089\n",
      "14           14     622465  16.974239\n",
      "15           15     640430  15.688418\n",
      "16           16     701435  14.283888\n",
      "17           17     756627  12.462955\n",
      "18           18     768251  13.646810\n",
      "19           19     701064  16.642882\n",
      "20           20     598614  19.536777\n",
      "21           21     552726  20.433874\n",
      "22           22     501095  19.531374\n",
      "23           23     399587  19.877046\n"
     ]
    },
    {
     "data": {
      "application/javascript": [
       "parent.postMessage({\"jupyterEvent\": \"custom.exercise_interaction\", \"data\": {\"outcomeType\": 1, \"valueTowardsCompletion\": 0.16666666666666666, \"interactionType\": 1, \"questionType\": 2, \"questionId\": \"5_TheLongQuery\", \"learnToolsVersion\": \"0.3.4\", \"failureMessage\": \"\", \"exceptionClass\": \"\", \"trace\": \"\"}}, \"*\")"
      ],
      "text/plain": [
       "<IPython.core.display.Javascript object>"
      ]
     },
     "metadata": {},
     "output_type": "display_data"
    },
    {
     "data": {
      "text/markdown": [
       "<span style=\"color:#33cc33\">Correct</span>"
      ],
      "text/plain": [
       "Correct"
      ]
     },
     "metadata": {},
     "output_type": "display_data"
    }
   ],
   "source": [
    "# Your code goes here\n",
    "speeds_query = \"\"\"\n",
    "               WITH RelevantRides AS\n",
    "               (\n",
    "                   SELECT trip_start_timestamp,trip_seconds,trip_miles\n",
    "                   FROM `bigquery-public-data.chicago_taxi_trips.taxi_trips`\n",
    "                   WHERE trip_seconds>0 AND trip_miles>0 AND trip_start_timestamp > '2017-01-01' AND trip_start_timestamp < '2017-07-01'\n",
    "               )\n",
    "               SELECT EXTRACT(HOUR FROM trip_start_timestamp) AS hour_of_day, COUNT(1) AS num_trips, 3600 * SUM(trip_miles) / SUM(trip_seconds) AS avg_mph \n",
    "               FROM RelevantRides\n",
    "               GROUP BY hour_of_day\n",
    "               ORDER BY hour_of_day\n",
    "               \"\"\"\n",
    "\n",
    "# Set up the query\n",
    "safe_config = bigquery.QueryJobConfig(maximum_bytes_billed=10**10)\n",
    "speeds_query_job = client.query(speeds_query,job_config=safe_config) # Your code here\n",
    "\n",
    "# API request - run the query, and return a pandas DataFrame\n",
    "speeds_result = speeds_query_job.to_dataframe() # Your code here\n",
    "\n",
    "# View results\n",
    "print(speeds_result)\n",
    "\n",
    "# Check your answer\n",
    "q_5.check()"
   ]
  },
  {
   "cell_type": "markdown",
   "id": "c50c447f",
   "metadata": {
    "papermill": {
     "duration": 0.008057,
     "end_time": "2022-08-12T20:17:06.427368",
     "exception": false,
     "start_time": "2022-08-12T20:17:06.419311",
     "status": "completed"
    },
    "tags": []
   },
   "source": [
    "For the solution, uncomment the appropriate line below."
   ]
  },
  {
   "cell_type": "code",
   "execution_count": 13,
   "id": "00df524b",
   "metadata": {
    "execution": {
     "iopub.execute_input": "2022-08-12T20:17:06.447301Z",
     "iopub.status.busy": "2022-08-12T20:17:06.446461Z",
     "iopub.status.idle": "2022-08-12T20:17:06.450866Z",
     "shell.execute_reply": "2022-08-12T20:17:06.450083Z"
    },
    "papermill": {
     "duration": 0.016343,
     "end_time": "2022-08-12T20:17:06.452889",
     "exception": false,
     "start_time": "2022-08-12T20:17:06.436546",
     "status": "completed"
    },
    "tags": []
   },
   "outputs": [],
   "source": [
    "#q_5.solution()"
   ]
  },
  {
   "cell_type": "markdown",
   "id": "01f257f6",
   "metadata": {
    "papermill": {
     "duration": 0.008323,
     "end_time": "2022-08-12T20:17:06.469960",
     "exception": false,
     "start_time": "2022-08-12T20:17:06.461637",
     "status": "completed"
    },
    "tags": []
   },
   "source": [
    "That's a hard query. If you made good progress towards the solution, congratulations!"
   ]
  },
  {
   "cell_type": "markdown",
   "id": "153ea19f",
   "metadata": {
    "papermill": {
     "duration": 0.008212,
     "end_time": "2022-08-12T20:17:06.486701",
     "exception": false,
     "start_time": "2022-08-12T20:17:06.478489",
     "status": "completed"
    },
    "tags": []
   },
   "source": [
    "# Keep going\n",
    "\n",
    "You can write very complex queries now with a single data source. But nothing expands the horizons of SQL as much as the ability to combine or **JOIN** tables.\n",
    "\n",
    "**[Click here](https://www.kaggle.com/dansbecker/joining-data)** to start the last lesson in the Intro to SQL micro-course."
   ]
  },
  {
   "cell_type": "markdown",
   "id": "0ba97cf9",
   "metadata": {
    "papermill": {
     "duration": 0.008105,
     "end_time": "2022-08-12T20:17:06.503223",
     "exception": false,
     "start_time": "2022-08-12T20:17:06.495118",
     "status": "completed"
    },
    "tags": []
   },
   "source": [
    "---\n",
    "\n",
    "\n",
    "\n",
    "\n",
    "*Have questions or comments? Visit the [course discussion forum](https://www.kaggle.com/learn/intro-to-sql/discussion) to chat with other learners.*"
   ]
  }
 ],
 "metadata": {
  "kernelspec": {
   "display_name": "Python 3",
   "language": "python",
   "name": "python3"
  },
  "language_info": {
   "codemirror_mode": {
    "name": "ipython",
    "version": 3
   },
   "file_extension": ".py",
   "mimetype": "text/x-python",
   "name": "python",
   "nbconvert_exporter": "python",
   "pygments_lexer": "ipython3",
   "version": "3.7.12"
  },
  "papermill": {
   "default_parameters": {},
   "duration": 19.781567,
   "end_time": "2022-08-12T20:17:07.132689",
   "environment_variables": {},
   "exception": null,
   "input_path": "__notebook__.ipynb",
   "output_path": "__notebook__.ipynb",
   "parameters": {},
   "start_time": "2022-08-12T20:16:47.351122",
   "version": "2.3.4"
  }
 },
 "nbformat": 4,
 "nbformat_minor": 5
}
